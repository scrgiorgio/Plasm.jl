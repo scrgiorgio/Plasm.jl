{
 "cells": [
  {
   "cell_type": "code",
   "execution_count": 7,
   "id": "76307fd0-56ea-4378-86cb-21c916e4f96f",
   "metadata": {},
   "outputs": [],
   "source": [
    "#see https://github.com/rdeits/MeshCat.jl/blob/master/notebooks/demo.ipynb\n",
    "\n",
    "using MeshCat\n",
    "using CoordinateTransformations\n",
    "using Rotations\n",
    "using GeometryBasics: HyperRectangle, Vec, Point, Mesh\n",
    "using Colors: RGBA, RGB"
   ]
  },
  {
   "cell_type": "code",
   "execution_count": 2,
   "id": "a456a785",
   "metadata": {},
   "outputs": [],
   "source": [
    "using Plasm"
   ]
  },
  {
   "cell_type": "code",
   "execution_count": 3,
   "id": "25736233-555a-43ee-9cec-33cbf1cb402c",
   "metadata": {},
   "outputs": [
    {
     "ename": "LoadError",
     "evalue": "MethodError: no method matching View(::Plasm.var\"#BOX0#251\", ::String)\n\n\u001b[0mClosest candidates are:\n\u001b[0m  View(\u001b[91m::Hpc\u001b[39m, ::String)\n\u001b[0m\u001b[90m   @\u001b[39m \u001b[35mPlasm\u001b[39m \u001b[90m~/Documents/dev/Plasm.jl/src/\u001b[39m\u001b[90m\u001b[4mhpc.jl:708\u001b[24m\u001b[39m\n",
     "output_type": "error",
     "traceback": [
      "MethodError: no method matching View(::Plasm.var\"#BOX0#251\", ::String)\n\n\u001b[0mClosest candidates are:\n\u001b[0m  View(\u001b[91m::Hpc\u001b[39m, ::String)\n\u001b[0m\u001b[90m   @\u001b[39m \u001b[35mPlasm\u001b[39m \u001b[90m~/Documents/dev/Plasm.jl/src/\u001b[39m\u001b[90m\u001b[4mhpc.jl:708\u001b[24m\u001b[39m\n",
      "",
      "Stacktrace:",
      " [1] VIEW(obj::Function, title::String)",
      "   @ Plasm ~/Documents/dev/Plasm.jl/src/fenvs.jl:807",
      " [2] VIEW(obj::Function)",
      "   @ Plasm ~/Documents/dev/Plasm.jl/src/fenvs.jl:807",
      " [3] top-level scope",
      "   @ In[3]:1"
     ]
    }
   ],
   "source": [
    "VIEW(BOX(1))"
   ]
  },
  {
   "cell_type": "code",
   "execution_count": null,
   "id": "41984289",
   "metadata": {},
   "outputs": [],
   "source": []
  }
 ],
 "metadata": {
  "kernelspec": {
   "display_name": "Julia 1.9.2",
   "language": "julia",
   "name": "julia-1.9"
  },
  "language_info": {
   "file_extension": ".jl",
   "mimetype": "application/julia",
   "name": "julia",
   "version": "1.9.3"
  }
 },
 "nbformat": 4,
 "nbformat_minor": 5
}
